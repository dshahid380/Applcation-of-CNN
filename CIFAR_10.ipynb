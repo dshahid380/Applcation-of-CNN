{
  "nbformat": 4,
  "nbformat_minor": 0,
  "metadata": {
    "colab": {
      "name": "CIFAR-10.ipynb",
      "version": "0.3.2",
      "provenance": [],
      "include_colab_link": true
    },
    "kernelspec": {
      "name": "python3",
      "display_name": "Python 3"
    },
    "accelerator": "GPU"
  },
  "cells": [
    {
      "cell_type": "markdown",
      "metadata": {
        "id": "view-in-github",
        "colab_type": "text"
      },
      "source": [
        "<a href=\"https://colab.research.google.com/github/dshahid380/CIFAR-10/blob/master/CIFAR_10.ipynb\" target=\"_parent\"><img src=\"https://colab.research.google.com/assets/colab-badge.svg\" alt=\"Open In Colab\"/></a>"
      ]
    },
    {
      "metadata": {
        "id": "_OEINmq_JYmF",
        "colab_type": "code",
        "colab": {
          "base_uri": "https://localhost:8080/",
          "height": 34
        },
        "outputId": "a7902e89-6f7c-4399-9cf3-3fa6b2c33fa2"
      },
      "cell_type": "code",
      "source": [
        "import tensorflow as tf\n",
        "device_name = tf.test.gpu_device_name()\n",
        "if device_name != '/device:GPU:0':\n",
        "  raise SystemError('GPU device not found')\n",
        "print('Found GPU at: {}'.format(device_name))"
      ],
      "execution_count": 5,
      "outputs": [
        {
          "output_type": "stream",
          "text": [
            "Found GPU at: /device:GPU:0\n"
          ],
          "name": "stdout"
        }
      ]
    },
    {
      "metadata": {
        "id": "t_vqQD_W8fpH",
        "colab_type": "code",
        "outputId": "998e56d7-80ed-448d-898c-65ccf54ed076",
        "colab": {
          "base_uri": "https://localhost:8080/",
          "height": 34
        }
      },
      "cell_type": "code",
      "source": [
        "import numpy as np\n",
        "import matplotlib.pyplot as plt\n",
        "%matplotlib inline\n",
        "from __future__ import print_function\n",
        "import keras\n",
        "from keras.models import Sequential\n",
        "from keras.layers import Dense, Conv2D, MaxPooling2D, Dropout, Flatten"
      ],
      "execution_count": 1,
      "outputs": [
        {
          "output_type": "stream",
          "text": [
            "Using TensorFlow backend.\n"
          ],
          "name": "stderr"
        }
      ]
    },
    {
      "metadata": {
        "id": "6xO9y6leM4r9",
        "colab_type": "code",
        "colab": {
          "base_uri": "https://localhost:8080/",
          "height": 51
        },
        "outputId": "85497ea4-2ebc-4707-a9e5-214f6feb1b74"
      },
      "cell_type": "code",
      "source": [
        "from keras.datasets import cifar10\n",
        "(train_images, train_labels), (test_images, test_labels) = cifar10.load_data()"
      ],
      "execution_count": 2,
      "outputs": [
        {
          "output_type": "stream",
          "text": [
            "Downloading data from https://www.cs.toronto.edu/~kriz/cifar-10-python.tar.gz\n",
            "170500096/170498071 [==============================] - 68s 0us/step\n"
          ],
          "name": "stdout"
        }
      ]
    },
    {
      "metadata": {
        "id": "L0azwFRuGL-s",
        "colab_type": "code",
        "colab": {}
      },
      "cell_type": "code",
      "source": [
        "from keras.utils import to_categorical"
      ],
      "execution_count": 0,
      "outputs": []
    },
    {
      "metadata": {
        "id": "5W1zMZll9Y9g",
        "colab_type": "code",
        "outputId": "bc48df8a-b3f6-422b-b8e6-0265b08628dc",
        "colab": {
          "base_uri": "https://localhost:8080/",
          "height": 249
        }
      },
      "cell_type": "code",
      "source": [
        "print('Training data shape : ', train_images.shape, train_labels.shape)\n",
        "\n",
        "print('Testing data shape : ', test_images.shape, test_labels.shape)\n",
        "\n",
        "# Find the unique numbers from the train labels\n",
        "classes = np.unique(train_labels)\n",
        "nClasses = len(classes)\n",
        "print('Total number of outputs : ', nClasses)\n",
        "print('Output classes : ', classes)\n",
        "\n",
        "plt.figure(figsize=[4,2])\n",
        "\n",
        "# Display the first image in training data\n",
        "plt.subplot(121)\n",
        "plt.imshow(train_images[0,:,:], cmap='gray')\n",
        "plt.title(\"Ground Truth : {}\".format(train_labels[0]))\n",
        "\n",
        "# Display the first image in testing data\n",
        "plt.subplot(122)\n",
        "plt.imshow(test_images[0,:,:], cmap='gray')\n",
        "plt.title(\"Ground Truth : {}\".format(test_labels[0]))"
      ],
      "execution_count": 6,
      "outputs": [
        {
          "output_type": "stream",
          "text": [
            "Training data shape :  (50000, 32, 32, 3) (50000, 1)\n",
            "Testing data shape :  (10000, 32, 32, 3) (10000, 1)\n",
            "Total number of outputs :  10\n",
            "Output classes :  [0 1 2 3 4 5 6 7 8 9]\n"
          ],
          "name": "stdout"
        },
        {
          "output_type": "execute_result",
          "data": {
            "text/plain": [
              "Text(0.5, 1.0, 'Ground Truth : [3]')"
            ]
          },
          "metadata": {
            "tags": []
          },
          "execution_count": 6
        },
        {
          "output_type": "display_data",
          "data": {
            "image/png": "[encoded data removed]",
            "text/plain": [
              "<Figure size 288x144 with 2 Axes>"
            ]
          },
          "metadata": {
            "tags": []
          }
        }
      ]
    },
    {
      "metadata": {
        "id": "DgFUB6t5Jn0Y",
        "colab_type": "code",
        "colab": {}
      },
      "cell_type": "code",
      "source": [
        "# Find the shape of input images and create the variable input_shape\n",
        "nRows,nCols,nDims = train_images.shape[1:]\n",
        "train_data = train_images.reshape(train_images.shape[0], nRows, nCols, nDims)\n",
        "test_data = test_images.reshape(test_images.shape[0], nRows, nCols, nDims)\n",
        "input_shape = (nRows, nCols, nDims)\n",
        "\n",
        "# Change to float datatype\n",
        "train_data = train_data.astype('float32')\n",
        "test_data = test_data.astype('float32')\n",
        "\n",
        "# Scale the data to lie between 0 to 1\n",
        "train_data /= 255\n",
        "test_data /= 255\n",
        "\n",
        "# Change the labels from integer to categorical data\n",
        "train_labels_one_hot = to_categorical(train_labels)\n",
        "test_labels_one_hot = to_categorical(test_labels)"
      ],
      "execution_count": 0,
      "outputs": []
    },
    {
      "metadata": {
        "id": "-lVLuxZzJnxK",
        "colab_type": "code",
        "colab": {
          "base_uri": "https://localhost:8080/",
          "height": 51
        },
        "outputId": "77a5fc1f-a169-42de-f105-95794ac43f22"
      },
      "cell_type": "code",
      "source": [
        "# Display the change for category label using one-hot encoding\n",
        "print('Original label 0 : ', train_labels[0])\n",
        "print('After conversion to categorical ( one-hot ) : ', train_labels_one_hot[0])"
      ],
      "execution_count": 8,
      "outputs": [
        {
          "output_type": "stream",
          "text": [
            "Original label 0 :  [6]\n",
            "After conversion to categorical ( one-hot ) :  [0. 0. 0. 0. 0. 0. 1. 0. 0. 0.]\n"
          ],
          "name": "stdout"
        }
      ]
    },
    {
      "metadata": {
        "id": "cxG_ykxV9ZL6",
        "colab_type": "code",
        "colab": {}
      },
      "cell_type": "code",
      "source": [
        "def createModel():\n",
        "    model = Sequential()\n",
        "    # The first two layers with 32 filters of window size 3x3\n",
        "    model.add(Conv2D(32, (3, 3), padding='same', activation='relu', input_shape=input_shape))\n",
        "    model.add(Conv2D(32, (3, 3), activation='relu'))\n",
        "    model.add(MaxPooling2D(pool_size=(2, 2)))\n",
        "    model.add(Dropout(0.25))\n",
        "\n",
        "    model.add(Conv2D(64, (3, 3), padding='same', activation='relu'))\n",
        "    model.add(Conv2D(64, (3, 3), activation='relu'))\n",
        "    model.add(MaxPooling2D(pool_size=(2, 2)))\n",
        "    model.add(Dropout(0.25))\n",
        "\n",
        "    model.add(Conv2D(64, (3, 3), padding='same', activation='relu'))\n",
        "    model.add(Conv2D(64, (3, 3), activation='relu'))\n",
        "    model.add(MaxPooling2D(pool_size=(2, 2)))\n",
        "    model.add(Dropout(0.25))\n",
        "\n",
        "    model.add(Flatten())\n",
        "    model.add(Dense(512, activation='relu'))\n",
        "    model.add(Dropout(0.5))\n",
        "    model.add(Dense(nClasses, activation='softmax'))\n",
        "    \n",
        "    return model"
      ],
      "execution_count": 0,
      "outputs": []
    },
    {
      "metadata": {
        "id": "dDZ_t9ju9ZWB",
        "colab_type": "code",
        "colab": {
          "base_uri": "https://localhost:8080/",
          "height": 2604
        },
        "outputId": "eb90a0d3-3147-4f06-e625-685399d2ee65"
      },
      "cell_type": "code",
      "source": [
        "model1 = createModel()\n",
        "batch_size = 256\n",
        "epochs = 50\n",
        "model1.compile(optimizer='rmsprop', loss='categorical_crossentropy', metrics=['accuracy'])\n",
        "\n",
        "model1.summary()\n",
        "\n",
        "history = model1.fit(train_data, train_labels_one_hot, batch_size=batch_size, epochs=epochs, verbose=1, \n",
        "                   validation_data=(test_data, test_labels_one_hot))\n",
        "model1.evaluate(test_data, test_labels_one_hot)"
      ],
      "execution_count": 10,
      "outputs": [
        {
          "output_type": "stream",
          "text": [
            "WARNING:tensorflow:From /usr/local/lib/python3.6/dist-packages/tensorflow/python/framework/op_def_library.py:263: colocate_with (from tensorflow.python.framework.ops) is deprecated and will be removed in a future version.\n",
            "Instructions for updating:\n",
            "Colocations handled automatically by placer.\n",
            "WARNING:tensorflow:From /usr/local/lib/python3.6/dist-packages/keras/backend/tensorflow_backend.py:3445: calling dropout (from tensorflow.python.ops.nn_ops) with keep_prob is deprecated and will be removed in a future version.\n",
            "Instructions for updating:\n",
            "Please use `rate` instead of `keep_prob`. Rate should be set to `rate = 1 - keep_prob`.\n",
            "_________________________________________________________________\n",
            "Layer (type)                 Output Shape              Param #   \n",
            "=================================================================\n",
            "conv2d_1 (Conv2D)            (None, 32, 32, 32)        896       \n",
            "_________________________________________________________________\n",
            "conv2d_2 (Conv2D)            (None, 30, 30, 32)        9248      \n",
            "_________________________________________________________________\n",
            "max_pooling2d_1 (MaxPooling2 (None, 15, 15, 32)        0         \n",
            "_________________________________________________________________\n",
            "dropout_1 (Dropout)          (None, 15, 15, 32)        0         \n",
            "_________________________________________________________________\n",
            "conv2d_3 (Conv2D)            (None, 15, 15, 64)        18496     \n",
            "_________________________________________________________________\n",
            "conv2d_4 (Conv2D)            (None, 13, 13, 64)        36928     \n",
            "_________________________________________________________________\n",
            "max_pooling2d_2 (MaxPooling2 (None, 6, 6, 64)          0         \n",
            "_________________________________________________________________\n",
            "dropout_2 (Dropout)          (None, 6, 6, 64)          0         \n",
            "_________________________________________________________________\n",
            "conv2d_5 (Conv2D)            (None, 6, 6, 64)          36928     \n",
            "_________________________________________________________________\n",
            "conv2d_6 (Conv2D)            (None, 4, 4, 64)          36928     \n",
            "_________________________________________________________________\n",
            "max_pooling2d_3 (MaxPooling2 (None, 2, 2, 64)          0         \n",
            "_________________________________________________________________\n",
            "dropout_3 (Dropout)          (None, 2, 2, 64)          0         \n",
            "_________________________________________________________________\n",
            "flatten_1 (Flatten)          (None, 256)               0         \n",
            "_________________________________________________________________\n",
            "dense_1 (Dense)              (None, 512)               131584    \n",
            "_________________________________________________________________\n",
            "dropout_4 (Dropout)          (None, 512)               0         \n",
            "_________________________________________________________________\n",
            "dense_2 (Dense)              (None, 10)                5130      \n",
            "=================================================================\n",
            "Total params: 276,138\n",
            "Trainable params: 276,138\n",
            "Non-trainable params: 0\n",
            "_________________________________________________________________\n",
            "WARNING:tensorflow:From /usr/local/lib/python3.6/dist-packages/tensorflow/python/ops/math_ops.py:3066: to_int32 (from tensorflow.python.ops.math_ops) is deprecated and will be removed in a future version.\n",
            "Instructions for updating:\n",
            "Use tf.cast instead.\n",
            "Train on 50000 samples, validate on 10000 samples\n",
            "Epoch 1/50\n",
            "50000/50000 [==============================] - 14s 284us/step - loss: 2.0684 - acc: 0.2324 - val_loss: 1.8090 - val_acc: 0.3377\n",
            "Epoch 2/50\n",
            "50000/50000 [==============================] - 10s 200us/step - loss: 1.7096 - acc: 0.3795 - val_loss: 1.4527 - val_acc: 0.4783\n",
            "Epoch 3/50\n",
            "50000/50000 [==============================] - 10s 200us/step - loss: 1.4986 - acc: 0.4556 - val_loss: 1.4691 - val_acc: 0.4803\n",
            "Epoch 4/50\n",
            "50000/50000 [==============================] - 10s 198us/step - loss: 1.3721 - acc: 0.5086 - val_loss: 1.2238 - val_acc: 0.5610\n",
            "Epoch 5/50\n",
            "50000/50000 [==============================] - 10s 201us/step - loss: 1.2619 - acc: 0.5491 - val_loss: 1.2565 - val_acc: 0.5508\n",
            "Epoch 6/50\n",
            "50000/50000 [==============================] - 10s 199us/step - loss: 1.1842 - acc: 0.5786 - val_loss: 1.2560 - val_acc: 0.5588\n",
            "Epoch 7/50\n",
            "50000/50000 [==============================] - 10s 200us/step - loss: 1.1136 - acc: 0.6039 - val_loss: 1.1107 - val_acc: 0.6071\n",
            "Epoch 8/50\n",
            "50000/50000 [==============================] - 10s 201us/step - loss: 1.0521 - acc: 0.6283 - val_loss: 1.0482 - val_acc: 0.6320\n",
            "Epoch 9/50\n",
            "50000/50000 [==============================] - 10s 201us/step - loss: 0.9967 - acc: 0.6477 - val_loss: 1.0670 - val_acc: 0.6276\n",
            "Epoch 10/50\n",
            "50000/50000 [==============================] - 10s 202us/step - loss: 0.9534 - acc: 0.6646 - val_loss: 0.9552 - val_acc: 0.6723\n",
            "Epoch 11/50\n",
            "50000/50000 [==============================] - 10s 201us/step - loss: 0.9078 - acc: 0.6801 - val_loss: 0.8385 - val_acc: 0.7105\n",
            "Epoch 12/50\n",
            "50000/50000 [==============================] - 10s 200us/step - loss: 0.8704 - acc: 0.6951 - val_loss: 0.8534 - val_acc: 0.7045\n",
            "Epoch 13/50\n",
            "50000/50000 [==============================] - 10s 201us/step - loss: 0.8349 - acc: 0.7088 - val_loss: 0.8466 - val_acc: 0.7122\n",
            "Epoch 14/50\n",
            "50000/50000 [==============================] - 10s 200us/step - loss: 0.8014 - acc: 0.7205 - val_loss: 0.8614 - val_acc: 0.6999\n",
            "Epoch 15/50\n",
            "50000/50000 [==============================] - 10s 201us/step - loss: 0.7784 - acc: 0.7294 - val_loss: 0.7875 - val_acc: 0.7353\n",
            "Epoch 16/50\n",
            "50000/50000 [==============================] - 10s 202us/step - loss: 0.7500 - acc: 0.7372 - val_loss: 0.8459 - val_acc: 0.7096\n",
            "Epoch 17/50\n",
            "50000/50000 [==============================] - 10s 200us/step - loss: 0.7277 - acc: 0.7453 - val_loss: 0.7634 - val_acc: 0.7368\n",
            "Epoch 18/50\n",
            "50000/50000 [==============================] - 10s 198us/step - loss: 0.7074 - acc: 0.7540 - val_loss: 0.6865 - val_acc: 0.7642\n",
            "Epoch 19/50\n",
            "50000/50000 [==============================] - 10s 198us/step - loss: 0.6854 - acc: 0.7617 - val_loss: 0.7295 - val_acc: 0.7538\n",
            "Epoch 20/50\n",
            "50000/50000 [==============================] - 10s 200us/step - loss: 0.6756 - acc: 0.7643 - val_loss: 0.8428 - val_acc: 0.7121\n",
            "Epoch 21/50\n",
            "50000/50000 [==============================] - 10s 201us/step - loss: 0.6543 - acc: 0.7742 - val_loss: 0.7729 - val_acc: 0.7381\n",
            "Epoch 22/50\n",
            "50000/50000 [==============================] - 10s 199us/step - loss: 0.6444 - acc: 0.7754 - val_loss: 0.7405 - val_acc: 0.7502\n",
            "Epoch 23/50\n",
            "50000/50000 [==============================] - 10s 201us/step - loss: 0.6324 - acc: 0.7804 - val_loss: 0.7858 - val_acc: 0.7399\n",
            "Epoch 24/50\n",
            "50000/50000 [==============================] - 10s 201us/step - loss: 0.6188 - acc: 0.7843 - val_loss: 0.7852 - val_acc: 0.7412\n",
            "Epoch 25/50\n",
            "50000/50000 [==============================] - 10s 200us/step - loss: 0.6033 - acc: 0.7895 - val_loss: 0.8119 - val_acc: 0.7443\n",
            "Epoch 26/50\n",
            "50000/50000 [==============================] - 10s 198us/step - loss: 0.5938 - acc: 0.7945 - val_loss: 0.6560 - val_acc: 0.7795\n",
            "Epoch 27/50\n",
            "50000/50000 [==============================] - 10s 200us/step - loss: 0.5837 - acc: 0.7973 - val_loss: 0.6639 - val_acc: 0.7801\n",
            "Epoch 28/50\n",
            "50000/50000 [==============================] - 10s 200us/step - loss: 0.5780 - acc: 0.7998 - val_loss: 0.6705 - val_acc: 0.7817\n",
            "Epoch 29/50\n",
            "50000/50000 [==============================] - 10s 199us/step - loss: 0.5706 - acc: 0.8031 - val_loss: 0.6384 - val_acc: 0.7899\n",
            "Epoch 30/50\n",
            "50000/50000 [==============================] - 10s 202us/step - loss: 0.5619 - acc: 0.8050 - val_loss: 0.6535 - val_acc: 0.7851\n",
            "Epoch 31/50\n",
            "50000/50000 [==============================] - 10s 198us/step - loss: 0.5564 - acc: 0.8072 - val_loss: 0.7292 - val_acc: 0.7651\n",
            "Epoch 32/50\n",
            "50000/50000 [==============================] - 10s 202us/step - loss: 0.5467 - acc: 0.8098 - val_loss: 0.7241 - val_acc: 0.7715\n",
            "Epoch 33/50\n",
            "50000/50000 [==============================] - 10s 199us/step - loss: 0.5434 - acc: 0.8111 - val_loss: 0.7071 - val_acc: 0.7739\n",
            "Epoch 34/50\n",
            "50000/50000 [==============================] - 10s 202us/step - loss: 0.5292 - acc: 0.8161 - val_loss: 0.6608 - val_acc: 0.7852\n",
            "Epoch 35/50\n",
            "50000/50000 [==============================] - 10s 200us/step - loss: 0.5226 - acc: 0.8188 - val_loss: 0.7106 - val_acc: 0.7748\n",
            "Epoch 36/50\n",
            "50000/50000 [==============================] - 10s 200us/step - loss: 0.5218 - acc: 0.8208 - val_loss: 0.7139 - val_acc: 0.7792\n",
            "Epoch 37/50\n",
            "50000/50000 [==============================] - 10s 202us/step - loss: 0.5206 - acc: 0.8199 - val_loss: 0.6262 - val_acc: 0.7935\n",
            "Epoch 38/50\n",
            "50000/50000 [==============================] - 10s 200us/step - loss: 0.5211 - acc: 0.8204 - val_loss: 0.7336 - val_acc: 0.7625\n",
            "Epoch 39/50\n",
            "50000/50000 [==============================] - 10s 203us/step - loss: 0.5028 - acc: 0.8266 - val_loss: 0.6742 - val_acc: 0.7944\n",
            "Epoch 40/50\n",
            "50000/50000 [==============================] - 10s 198us/step - loss: 0.5067 - acc: 0.8256 - val_loss: 0.6448 - val_acc: 0.7960\n",
            "Epoch 41/50\n",
            "50000/50000 [==============================] - 10s 198us/step - loss: 0.4962 - acc: 0.8274 - val_loss: 0.6573 - val_acc: 0.7920\n",
            "Epoch 42/50\n",
            "50000/50000 [==============================] - 10s 199us/step - loss: 0.4935 - acc: 0.8311 - val_loss: 0.6306 - val_acc: 0.7998\n",
            "Epoch 43/50\n",
            "50000/50000 [==============================] - 10s 201us/step - loss: 0.4954 - acc: 0.8285 - val_loss: 0.7350 - val_acc: 0.7745\n",
            "Epoch 44/50\n",
            "50000/50000 [==============================] - 10s 200us/step - loss: 0.4944 - acc: 0.8309 - val_loss: 0.7853 - val_acc: 0.7672\n",
            "Epoch 45/50\n",
            "50000/50000 [==============================] - 10s 198us/step - loss: 0.4855 - acc: 0.8328 - val_loss: 0.7289 - val_acc: 0.7793\n",
            "Epoch 46/50\n",
            "50000/50000 [==============================] - 10s 201us/step - loss: 0.4832 - acc: 0.8337 - val_loss: 0.7024 - val_acc: 0.7860\n",
            "Epoch 47/50\n",
            "50000/50000 [==============================] - 10s 200us/step - loss: 0.4761 - acc: 0.8353 - val_loss: 0.6755 - val_acc: 0.7914\n",
            "Epoch 48/50\n",
            "50000/50000 [==============================] - 10s 201us/step - loss: 0.4744 - acc: 0.8378 - val_loss: 0.6286 - val_acc: 0.8115\n",
            "Epoch 49/50\n",
            "50000/50000 [==============================] - 10s 199us/step - loss: 0.4781 - acc: 0.8348 - val_loss: 0.6576 - val_acc: 0.7892\n",
            "Epoch 50/50\n",
            "50000/50000 [==============================] - 10s 201us/step - loss: 0.4698 - acc: 0.8386 - val_loss: 0.8848 - val_acc: 0.7548\n",
            "10000/10000 [==============================] - 1s 126us/step\n"
          ],
          "name": "stdout"
        },
        {
          "output_type": "execute_result",
          "data": {
            "text/plain": [
              "[0.8848254268646241, 0.7548]"
            ]
          },
          "metadata": {
            "tags": []
          },
          "execution_count": 10
        }
      ]
    },
    {
      "metadata": {
        "id": "Ry7zxnak9ZfO",
        "colab_type": "code",
        "colab": {
          "base_uri": "https://localhost:8080/",
          "height": 428
        },
        "outputId": "b731e871-4ef8-4c16-a929-2efd82cd47ed"
      },
      "cell_type": "code",
      "source": [
        "plt.figure(figsize=[8,6])\n",
        "plt.plot(history.history['loss'],'r',linewidth=3.0)\n",
        "plt.plot(history.history['val_loss'],'b',linewidth=3.0)\n",
        "plt.legend(['Training loss', 'Validation Loss'],fontsize=18)\n",
        "plt.xlabel('Epochs ',fontsize=16)\n",
        "plt.ylabel('Loss',fontsize=16)\n",
        "plt.title('Loss Curves',fontsize=16)"
      ],
      "execution_count": 11,
      "outputs": [
        {
          "output_type": "execute_result",
          "data": {
            "text/plain": [
              "Text(0.5, 1.0, 'Loss Curves')"
            ]
          },
          "metadata": {
            "tags": []
          },
          "execution_count": 11
        },
        {
          "output_type": "display_data",
          "data": {
            "image/png": "[encoded data removed]",
            "text/plain": [
              "<Figure size 576x432 with 1 Axes>"
            ]
          },
          "metadata": {
            "tags": []
          }
        }
      ]
    },
    {
      "metadata": {
        "id": "z24spJfG9ZyE",
        "colab_type": "code",
        "colab": {
          "base_uri": "https://localhost:8080/",
          "height": 428
        },
        "outputId": "625d0930-d7ec-4b22-f204-eda7ccc885d8"
      },
      "cell_type": "code",
      "source": [
        "plt.figure(figsize=[8,6])\n",
        "plt.plot(history.history['acc'],'r',linewidth=3.0)\n",
        "plt.plot(history.history['val_acc'],'b',linewidth=3.0)\n",
        "plt.legend(['Training Accuracy', 'Validation Accuracy'],fontsize=18)\n",
        "plt.xlabel('Epochs ',fontsize=16)\n",
        "plt.ylabel('Accuracy',fontsize=16)\n",
        "plt.title('Accuracy Curves',fontsize=16)"
      ],
      "execution_count": 12,
      "outputs": [
        {
          "output_type": "execute_result",
          "data": {
            "text/plain": [
              "Text(0.5, 1.0, 'Accuracy Curves')"
            ]
          },
          "metadata": {
            "tags": []
          },
          "execution_count": 12
        },
        {
          "output_type": "display_data",
          "data": {
            "image/png": "[encoded data removed]",
            "text/plain": [
              "<Figure size 576x432 with 1 Axes>"
            ]
          },
          "metadata": {
            "tags": []
          }
        }
      ]
    },
    {
      "metadata": {
        "id": "mYVuG5OOMVZD",
        "colab_type": "code",
        "colab": {}
      },
      "cell_type": "code",
      "source": [
        ""
      ],
      "execution_count": 0,
      "outputs": []
    },
    {
      "metadata": {
        "id": "gwbqSjX-9Z0Y",
        "colab_type": "code",
        "colab": {}
      },
      "cell_type": "code",
      "source": [
        ""
      ],
      "execution_count": 0,
      "outputs": []
    }
  ]
}